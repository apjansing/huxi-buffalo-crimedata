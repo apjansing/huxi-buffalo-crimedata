{
 "cells": [
  {
   "cell_type": "code",
   "execution_count": 1,
   "metadata": {
    "collapsed": true
   },
   "outputs": [],
   "source": [
    "import matplotlib as plot\n",
    "import pymongo as pm\n",
    "import numpy as np\n",
    "import json\n",
    "import csv\n",
    "from geopy import distance"
   ]
  },
  {
   "cell_type": "markdown",
   "metadata": {},
   "source": [
    "Connect to Databases"
   ]
  },
  {
   "cell_type": "code",
   "execution_count": 2,
   "metadata": {
    "collapsed": true
   },
   "outputs": [],
   "source": [
    "connection = pm.MongoClient()\n",
    "buffalo = connection.buffalo"
   ]
  },
  {
   "cell_type": "markdown",
   "metadata": {},
   "source": [
    "Read in data"
   ]
  },
  {
   "cell_type": "code",
   "execution_count": 3,
   "metadata": {
    "collapsed": true
   },
   "outputs": [],
   "source": [
    "def readGeoJson(FILE_PATH):\n",
    "    with open(FILE_PATH, 'r') as f:\n",
    "        return json.load(f)"
   ]
  },
  {
   "cell_type": "code",
   "execution_count": 4,
   "metadata": {
    "collapsed": true
   },
   "outputs": [],
   "source": [
    "def ingestGeoJsonFeatureToMongoDB(geojson, collection):\n",
    "    for feature in geojson['features']:\n",
    "        collection.insert_one(feature)"
   ]
  },
  {
   "cell_type": "code",
   "execution_count": 5,
   "metadata": {
    "collapsed": true
   },
   "outputs": [],
   "source": [
    "def readCSV(FILE_PATH):\n",
    "    CSV = []\n",
    "    with open(FILE_PATH, 'r') as F:\n",
    "        CSV = list(csv.reader(F, quotechar='\"', delimiter=','))\n",
    "    return np.array(CSV)"
   ]
  },
  {
   "cell_type": "code",
   "execution_count": 6,
   "metadata": {
    "collapsed": true
   },
   "outputs": [],
   "source": [
    "directory = \"/home/apjansing/Documents/Hack Upstate/Buffalo/data/\"\n",
    "camerasData = readGeoJson(directory+\"Buffalo Police Department Camera Locations.geojson\")\n",
    "policeDistricts = readGeoJson(directory+\"Police Districts.geojson\")\n",
    "streetsData = readGeoJson(directory+\"Streets.geojson\")\n",
    "crimeData = readCSV(directory+\"Crime_Incidents.csv\")"
   ]
  },
  {
   "cell_type": "markdown",
   "metadata": {},
   "source": [
    "Ingest data to Collections"
   ]
  },
  {
   "cell_type": "code",
   "execution_count": 7,
   "metadata": {
    "collapsed": true
   },
   "outputs": [],
   "source": [
    "buffalo.cameras.drop()\n",
    "buffalo.cameras.create_index([(\"geometry\",  \"2dsphere\")])\n",
    "ingestGeoJsonFeatureToMongoDB(camerasData, buffalo.cameras)"
   ]
  },
  {
   "cell_type": "code",
   "execution_count": 8,
   "metadata": {
    "collapsed": true
   },
   "outputs": [],
   "source": [
    "buffalo.districts.drop()\n",
    "buffalo.districts.create_index([(\"geometry\", \"2dsphere\")])\n",
    "ingestGeoJsonFeatureToMongoDB(policeDistricts, buffalo.districts)"
   ]
  },
  {
   "cell_type": "code",
   "execution_count": 9,
   "metadata": {
    "collapsed": true,
    "scrolled": true
   },
   "outputs": [],
   "source": [
    "buffalo.streets.drop()\n",
    "buffalo.streets.create_index([(\"geometry\", \"2dsphere\")])\n",
    "ingestGeoJsonFeatureToMongoDB(streetsData, buffalo.streets)"
   ]
  },
  {
   "cell_type": "code",
   "execution_count": 11,
   "metadata": {
    "collapsed": true
   },
   "outputs": [],
   "source": [
    "def getJson(keys, values):\n",
    "    payload = {}\n",
    "    for i,j in zip(keys,values):\n",
    "        try:\n",
    "            payload[i] = float(j)\n",
    "        except:\n",
    "            payload[i] = j   \n",
    "    return payload"
   ]
  },
  {
   "cell_type": "code",
   "execution_count": 13,
   "metadata": {},
   "outputs": [],
   "source": [
    "'''\n",
    "['incident_id' 'case_number' 'incident_datetime' 'incident_type_primary'\n",
    " 'incident_description' 'clearance_type' 'address_1' 'address_2' 'city'\n",
    " 'state' 'zip' 'country' 'latitude' 'longitude' 'created_at' 'updated_at'\n",
    " 'location' 'hour_of_day' 'day_of_week' 'parent_incident_type']\n",
    " '''\n",
    "buffalo.crimes.drop()\n",
    "buffalo.crimes.create_index([(\"location\", pm.GEO2D)])\n",
    "keys = crimeData[0]\n",
    "# print keys\n",
    "for i in range(1, len(crimeData)):\n",
    "    payload = getJson(keys, crimeData[i])\n",
    "    payload['location'] = str(payload['longitude']) + ',' + str(payload['latitude'] )\n",
    "    buffalo.crimes.insert_one(payload)"
   ]
  },
  {
   "cell_type": "markdown",
   "metadata": {},
   "source": [
    "Find some metrics about the streets."
   ]
  },
  {
   "cell_type": "code",
   "execution_count": 48,
   "metadata": {
    "collapsed": true
   },
   "outputs": [],
   "source": [
    "'''\n",
    "Knowing that you're receiving location points as (long, lat) and you need to swap them.\n",
    "'''\n",
    "def getLength(loc1, loc2):\n",
    "    return distance.distance((loc1[1], loc1[0]), (loc2[1], loc2[0])).miles"
   ]
  },
  {
   "cell_type": "code",
   "execution_count": 74,
   "metadata": {},
   "outputs": [],
   "source": [
    "cursor = buffalo.streets.find()\n",
    "while cursor.alive:\n",
    "    length = 0\n",
    "    token = cursor.next()\n",
    "    coords = token['geometry']['coordinates']\n",
    "    for i in range(len(coords)):\n",
    "        for j in range(len(coords[i])):\n",
    "            for k in range(j+1, len(coords[i])):\n",
    "                length += getLength(coords[i][j], coords[i][k])\n",
    "    buffalo.streets.update_one( {\"_id\":token['_id']}, {\"$set\": { \"streetLength\": length }} )\n"
   ]
  },
  {
   "cell_type": "markdown",
   "metadata": {},
   "source": [
    "Find where and how close the closest police camera is"
   ]
  },
  {
   "cell_type": "code",
   "execution_count": 77,
   "metadata": {},
   "outputs": [],
   "source": [
    "cursor = buffalo.crimes.find()\n",
    "while cursor.alive:\n",
    "    token = cursor.next()\n",
    "    loc = token['location'].split(',')\n",
    "    loc[0] = float(loc[0])\n",
    "    loc[1] = float(loc[1])\n",
    "    near = {\"geometry\": {\"$near\": {\"$geometry\": {\"type\": \"Point\" ,\"coordinates\": loc } } } }\n",
    "    near = buffalo.cameras.find(near).limit(1).next()\n",
    "    nearLoc = near['geometry']['coordinates']\n",
    "    closestCamera = distance.distance((nearLoc[1], nearLoc[0]), (loc[1], loc[0])).miles\n",
    "    buffalo.crimes.update_one( {\"_id\":token['_id']}, {\"$set\": { \"closestCamera\": closestCamera }} )"
   ]
  },
  {
   "cell_type": "markdown",
   "metadata": {},
   "source": [
    "Find where and how close the closest police camera is"
   ]
  },
  {
   "cell_type": "code",
   "execution_count": 190,
   "metadata": {},
   "outputs": [
    {
     "name": "stdout",
     "output_type": "stream",
     "text": [
      "{u'incident_id': 765848097.0, u'incident_datetime': u'07/20/2016 11:10:00 AM', u'longitude': -77.2971053, u'location': u'-77.2971053,42.89514', u'zip': 14424.0, u'city': u'BUFFALO', u'incident_description': u'THEFT OF SERVICES', u'created_at': u'07/23/2016 03:58:48 AM', u'case_number': u'16-2020414', u'parent_incident_type': u'Theft', u'updated_at': u'07/27/2016 06:08:06 AM', u'day_of_week': u'Wednesday', u'clearance_type': u'', u'state': u'NY', u'hour_of_day': 11.0, u'address_2': u'', u'country': u'', u'latitude': 42.89514, u'incident_type_primary': u'THEFT OF SERVICES', u'_id': ObjectId('5ad2d0c66c06a0136a3d6c98'), u'address_1': u'PEARL & ST'}\n",
      "{u'incident_id': 68952074.0, u'incident_datetime': u'05/28/2011 10:00:00 AM', u'longitude': 0.0, u'location': u'0.0,0.0', u'zip': u'null', u'city': u'BUFFALO', u'incident_description': u'Buffalo Police are investigating this report of a crime. It is important to note that this is very preliminary information and further investigation as to the facts and circumstances of this report may be necessary.', u'created_at': u'05/31/2011 06:00:33 AM', u'case_number': u'11-1500764', u'parent_incident_type': u'Breaking & Entering', u'updated_at': u'06/06/2011 06:00:52 AM', u'day_of_week': u'Saturday', u'clearance_type': u'', u'state': u'NY', u'hour_of_day': 10.0, u'address_2': u'', u'country': u'null', u'latitude': 0.0, u'incident_type_primary': u'BURGLARY', u'_id': ObjectId('5ad2d0c66c06a0136a3d6cc4'), u'address_1': u'1 Block MONTICELLO PL'}\n"
     ]
    }
   ],
   "source": [
    "cursor = buffalo.crimes.find()\n",
    "i = 0\n",
    "while cursor.alive and i < 100:\n",
    "    i+=1\n",
    "    token = cursor.next()\n",
    "    loc = token['location'].split(',')\n",
    "    loc[0] = float(loc[0])\n",
    "    loc[1] = float(loc[1])\n",
    "    near = {\"geometry\": {\"$near\": {\"$geometry\": {\"type\": \"Point\" ,\"coordinates\": loc } } } }\n",
    "    near = buffalo.cameras.find(near).limit(1).next()\n",
    "    nearLoc = near['geometry']['coordinates']\n",
    "#     distanceFromClosestCamera = np.linalg.norm(np.array(loc) - np.array(near['geometry']['coordinates']))\n",
    "    if distance.distance((nearLoc[1], nearLoc[0]), (loc[1], loc[0])).miles > 50:\n",
    "        print token"
   ]
  },
  {
   "cell_type": "code",
   "execution_count": null,
   "metadata": {
    "collapsed": true
   },
   "outputs": [],
   "source": []
  }
 ],
 "metadata": {
  "kernelspec": {
   "display_name": "Python 2",
   "language": "python",
   "name": "python2"
  },
  "language_info": {
   "codemirror_mode": {
    "name": "ipython",
    "version": 2
   },
   "file_extension": ".py",
   "mimetype": "text/x-python",
   "name": "python",
   "nbconvert_exporter": "python",
   "pygments_lexer": "ipython2",
   "version": "2.7.14"
  }
 },
 "nbformat": 4,
 "nbformat_minor": 2
}
